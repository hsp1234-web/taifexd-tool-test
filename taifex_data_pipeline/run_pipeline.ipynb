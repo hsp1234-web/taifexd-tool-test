{
 "cells": [],
 "metadata": {
  "kernelspec": {
   "display_name": "Python 3",
   "language": "python",
   "name": "python3"
  },
  "language_info": {
   "codemirror_mode": {
    "name": "ipython",
    "version": 3
   },
   "file_extension": ".py",
   "mimetype": "text/x-python",
   "name": "python",
   "nbconvert_exporter": "python",
   "pygments_lexer": "ipython3"
  }
 },
 "nbformat": 4,
 "nbformat_minor": 5,
 "cells": [
  {
   "cell_type": "code",
   "execution_count": null,
   "metadata": {},
   "outputs": [],
   "source": [
    "# -*- coding: utf-8 -*-

",
    "# Google Colab 執行儲存格

",
    "

",
    "# 系統指令區塊 - 安裝必要套件

",
    "print(\\"INFO: 開始環境準備...\\")

",
    "import subprocess

",
    "import sys

",
    "import os # Added for path checks for requirements

",
    "

",
    "def run_command(command):

",
    "    process = subprocess.Popen(command, stdout=subprocess.PIPE, stderr=subprocess.PIPE, shell=True)

",
    "    stdout, stderr = process.communicate()

",
    "    if process.returncode != 0:

",
    "        print(f\\"指令執行失敗: {command}\\")

",
    "        print(f\\"錯誤訊息: {stderr.decode(\\\"utf-8\\\", errors=\\\"ignore\\\")}\\")

",
    "        return False

",
    "    print(f\\"指令執行成功: {command}\\")

",
    "    return True

",
    "

",
    "print(\\"INFO: 更新 apt 套件列表...\\")

",
    "if not run_command(\\"apt-get update -qq\\"):

",
    "    print(\\"WARN: apt-get update 可能有問題，但仍嘗試繼續...\\")

",
    "

",
    "print(\\"INFO: 安裝系統依賴 libmagic1, p7zip-full, unrar...\\")

",
    "if not run_command(\\"apt-get install -y -qq libmagic1 p7zip-full unrar\\"):

",
    "    print(\\"ERROR: 無法安裝必要的系統依賴 (libmagic1, p7zip-full, unrar)。部分檔案類型可能無法正確處理。\\")

",
    "

",
    "print(\\"INFO: 安裝 Python 依賴 (從 requirements.txt)...\\")

",
    "requirements_path = \\"requirements.txt\\"

",
    "if not os.path.exists(requirements_path):

",
    "    requirements_path = \\"taifex_data_pipeline/requirements.txt\\"

",
    "    if not os.path.exists(requirements_path):

",
    "        print(f\\"ERROR: requirements.txt 未在預期路徑找到。請確保它已上傳。\\")

",
    "    else:

",
    "        print(f\\"INFO: 找到 requirements.txt 於 {requirements_path}\\")

",
    "else:

",
    "    print(f\\"INFO: 找到 requirements.txt 於 ./requirements.txt\\")

",
    "

",
    "if os.path.exists(requirements_path):

",
    "    if not run_command(f\\"{sys.executable} -m pip install -r {requirements_path} -q\\"):

",
    "        print(\\"ERROR: pip install -r requirements.txt 失敗。\\")

",
    "else:

",
    "    print(\\"WARN: requirements.txt 未找到，嘗試直接安裝主要依賴: python-magic, patool, pytz\\")

",
    "    if not run_command(f\\"{sys.executable} -m pip install python-magic patool pytz -q\\"):

",
    "         print(\\"ERROR: 直接安裝主要 Python 依賴失敗。\\")

",
    "

",
    "print(\\"INFO: 環境準備階段完成。\\")

",
    "print(\\"\\\\n\\" + \\"=\\"*50 + \\"\\\\n\\")

",
    "

",
    "# Python 主要邏輯區塊

",
    "import os

",
    "import shutil

",
    "from google.colab import files

",
    "

",
    "project_dir_name = \\"taifex_data_pipeline\\"

",
    "if os.path.basename(os.getcwd()) != project_dir_name:

",
    "    project_path = os.path.join(os.getcwd(), project_dir_name)

",
    "    if os.path.isdir(project_path) and project_path not in sys.path:

",
    "        sys.path.insert(0, project_path)

",
    "        print(f\\"INFO: 已將專案路徑 {project_path} 加入 sys.path\\")

",
    "    elif os.path.dirname(os.getcwd()) not in sys.path:

",
    "        sys.path.insert(0, os.path.dirname(os.getcwd()))

",
    "        print(f\\"INFO: 已將父目錄 {os.path.dirname(os.getcwd())} 加入 sys.path\\")

",
    "elif os.getcwd() not in sys.path:

",
    "    sys.path.insert(0, os.getcwd())

",
    "    print(f\\"INFO: 已將當前專案目錄 {os.getcwd()} 加入 sys.path\\")

",
    "

",
    "try:

",
    "    from src.orchestrator import process_single_file

",
    "    from src.utils.logger import setup_logger, get_logger

",
    "    from src.config import settings

",
    "    from src.utils import reporter

",
    "except ModuleNotFoundError as e:

",
    "    print(f\\"ERROR: 匯入專案模組失敗: {e}\\")

",
    "    print(f\\"目前的 sys.path: {sys.path}\\")

",
    "    print(f\\"目前的工作目錄: {os.getcwd()}\\")

",
    "

",
    "def main_colab():

",
    "    print(\\"INFO: 開始執行 Colab 資料處理流程...\\")

",
    "    logger = get_logger()

",
    "    try:

",
    "        colab_log_path = os.path.join(os.getcwd(), \\"colab_pipeline.log\\")

",
    "        logger = setup_logger(log_file_path=colab_log_path, log_level=\\"INFO\\")

",
    "        print(f\\"INFO: 日誌將記錄於: {colab_log_path}\\")

",
    "    except NameError:

",
    "        print(\\"ERROR: Logger 或 Settings 未能成功匯入，無法繼續。\\")

",
    "        return

",
    "

",
    "    current_run_dir = os.getcwd()

",
    "    DATABASE_PATH_COLAB = os.path.join(current_run_dir, settings.DATABASE_NAME)

",
    "    TEMP_UPLOAD_DIR_COLAB = os.path.join(current_run_dir, settings.TEMP_UPLOAD_DIR_NAME)

",
    "    TEMP_EXTRACTION_BASE_DIR_COLAB = os.path.join(current_run_dir, settings.TEMP_EXTRACTION_DIR_NAME)

",
    "

",
    "    logger.info(f\\"Colab 資料庫路徑設定為: {DATABASE_PATH_COLAB}\\")

",
    "    logger.info(f\\"Colab 臨時上傳目錄設定為: {TEMP_UPLOAD_DIR_COLAB}\\")

",
    "    logger.info(f\\"Colab 臨時解壓縮基礎目錄設定為: {TEMP_EXTRACTION_BASE_DIR_COLAB}\\")

",
    "

",
    "    os.makedirs(TEMP_UPLOAD_DIR_COLAB, exist_ok=True)

",
    "    os.makedirs(TEMP_EXTRACTION_BASE_DIR_COLAB, exist_ok=True)

",
    "

",
    "    print(\\"\\\\n👉 請上傳您的期交所資料檔案 (可以是 .zip, .rar, .7z, .gz, .tar, .bz2 或 .csv, .txt):\\")

",
    "    try:

",
    "        uploaded = files.upload()

",
    "    except Exception as e:

",
    "        logger.error(f\\"檔案上傳失敗: {e}\\", exc_info=True)

",
    "        print(f\\"❌ 檔案上傳過程中發生錯誤: {e}\\")

",
    "        return

",
    "

",
    "    if not uploaded:

",
    "        print(\\"🤷 沒有選擇任何檔案。處理結束。\\")

",
    "        return

",
    "

",
    "    all_files_summaries = []

",
    "    overall_pipeline_success = True

",
    "

",
    "    for filename, content in uploaded.items():

",
    "        uploaded_file_path = os.path.join(TEMP_UPLOAD_DIR_COLAB, filename)

",
    "        with open(uploaded_file_path, \\"wb\\") as f:

",
    "            f.write(content)

",
    "        logger.info(f\\"檔案 [{filename}] 已上傳並儲存到 [{uploaded_file_path}]\\")

",
    "

",
    "        success, single_file_summary_obj = process_single_file(uploaded_file_path, DATABASE_PATH_COLAB, TEMP_EXTRACTION_BASE_DIR_COLAB)

",
    "        all_files_summaries.append(single_file_summary_obj)

",
    "        if not success:

",
    "            overall_pipeline_success = False

",
    "

",
    "    if all_files_summaries:

",
    "        final_status_message = \\"所有檔案處理完成。\\" if overall_pipeline_success else \\"部分或所有檔案處理失敗。\\"

",
    "        reporter.generate_summary_report(final_status_message, all_files_summaries)

",
    "    else:

",
    "        logger.info(\\"沒有檔案被處理。\\")

",
    "

",
    "    logger.info(f\\"開始清理臨時上傳目錄 [{TEMP_UPLOAD_DIR_COLAB}]\\")

",
    "    for item in os.listdir(TEMP_UPLOAD_DIR_COLAB):

",
    "        item_path = os.path.join(TEMP_UPLOAD_DIR_COLAB, item)

",
    "        try:

",
    "            if os.path.isfile(item_path) or os.path.islink(item_path): os.unlink(item_path)

",
    "            elif os.path.isdir(item_path): shutil.rmtree(item_path)

",
    "            logger.debug(f\\"已刪除臨時項目: {item_path}\\")

",
    "        except Exception as e: logger.error(f\\"刪除臨時項目 {item_path} 失敗: {e}\\")

",
    "

",
    "    logger.info(f\\"開始清理臨時解壓縮基礎目錄 [{TEMP_EXTRACTION_BASE_DIR_COLAB}] 中的殘留檔案\\")

",
    "    for item in os.listdir(TEMP_EXTRACTION_BASE_DIR_COLAB):

",
    "        item_path = os.path.join(TEMP_EXTRACTION_BASE_DIR_COLAB, item)

",
    "        try:

",
    "            if os.path.isfile(item_path) or os.path.islink(item_path): os.unlink(item_path)

",
    "            logger.debug(f\\"已刪除臨時解壓檔案: {item_path}\\")

",
    "        except Exception as e: logger.error(f\\"刪除臨時解壓檔案 {item_path} 失敗: {e}\\")

",
    "

",
    "    print(\\"\\\\n👍 資料處理流程結束。請查看以上的日誌輸出以及資料庫檔案。\\")

",
    "    print(f\\"日誌檔案位於: {colab_log_path}\\")

",
    "    print(f\\"資料庫檔案位於: {DATABASE_PATH_COLAB}\\")

",
    "

",
    "if __name__ == \\"__main__\\":

",
    "    try:

",
    "        from google.colab import files

",
    "        IN_COLAB = True

",
    "    except ImportError:

",
    "        IN_COLAB = False

",
    "

",
    "    if IN_COLAB:

",
    "        if \\"src.orchestrator\\" not in sys.modules:

",
    "             print(\\"錯誤：似乎無法正確導入專案模組。請檢查 Notebook 與 taifex_data_pipeline 資料夾的相對位置。\\")

",
    "        else:

",
    "            main_colab()

",
    "    else:

",
    "        print(\\"此腳本主要設計為在 Google Colab 環境中通過單一儲存格執行。\\")
"
   ]
  }
 ]
}
